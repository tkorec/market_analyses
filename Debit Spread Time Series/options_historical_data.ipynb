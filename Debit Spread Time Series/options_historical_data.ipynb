{
 "cells": [
  {
   "cell_type": "code",
   "execution_count": 2,
   "metadata": {},
   "outputs": [
    {
     "name": "stdout",
     "output_type": "stream",
     "text": [
      "Collecting ibapi\n",
      "  Downloading ibapi-9.81.1.post1.tar.gz (61 kB)\n",
      "  Preparing metadata (setup.py) ... \u001b[?25ldone\n",
      "\u001b[?25hBuilding wheels for collected packages: ibapi\n",
      "  Building wheel for ibapi (setup.py) ... \u001b[?25ldone\n",
      "\u001b[?25h  Created wheel for ibapi: filename=ibapi-9.81.1.post1-py3-none-any.whl size=67941 sha256=11f4e8f98f9c92deeead941e1753f43a2e6d526f991339aa59b396ef9f6a962b\n",
      "  Stored in directory: /Users/tomaskorec/Library/Caches/pip/wheels/da/13/2b/1bf49acd2509e17f0a89926c3214b5de879ab6f223d27ded38\n",
      "Successfully built ibapi\n",
      "Installing collected packages: ibapi\n",
      "Successfully installed ibapi-9.81.1.post1\n",
      "\n",
      "\u001b[1m[\u001b[0m\u001b[34;49mnotice\u001b[0m\u001b[1;39;49m]\u001b[0m\u001b[39;49m A new release of pip is available: \u001b[0m\u001b[31;49m24.2\u001b[0m\u001b[39;49m -> \u001b[0m\u001b[32;49m24.3.1\u001b[0m\n",
      "\u001b[1m[\u001b[0m\u001b[34;49mnotice\u001b[0m\u001b[1;39;49m]\u001b[0m\u001b[39;49m To update, run: \u001b[0m\u001b[32;49mpython3.11 -m pip install --upgrade pip\u001b[0m\n"
     ]
    }
   ],
   "source": [
    "! pip install ibapi"
   ]
  },
  {
   "cell_type": "code",
   "execution_count": 1,
   "metadata": {},
   "outputs": [],
   "source": [
    "from ibapi.client import *\n",
    "from ibapi.wrapper import *\n",
    "import datetime\n",
    "import threading\n",
    "import time\n",
    "from ibapi.ticktype import TickTypeEnum"
   ]
  },
  {
   "cell_type": "code",
   "execution_count": 15,
   "metadata": {},
   "outputs": [],
   "source": [
    "class TestApp(EWrapper, EClient):\n",
    "\n",
    "    def __init__(self):\n",
    "        EClient.__init__(self, self)\n",
    "        self.orderId = None\n",
    "\n",
    "    def nextValidId(self, orderId: OrderId):\n",
    "        self.orderId = orderId\n",
    "\n",
    "    def nextId(self):\n",
    "        self.orderId += 1\n",
    "        return self.orderId\n",
    "    \n",
    "    def error(self, reqId, errorCode, errorString, advancedOrderReject=None):\n",
    "        print(f\"reqId: {reqId}, errorCode: {errorCode}, errorString: {errorString}, orderReject: {advancedOrderReject}\")\n",
    "\n",
    "    def tickPrice(self, reqId, tickType, price, attrib):\n",
    "        print(f\"reqId: {reqId}, tickType: {TickTypeEnum.to_str(tickType)}, price: {price}, attrib: {attrib}\")\n",
    "\n",
    "    def tickSize(self, reqId, tickType, size):\n",
    "        print(f\"reqId: {reqId}, tickType: {TickTypeEnum.to_str(tickType)}, size: {size}\")\n",
    "\n"
   ]
  },
  {
   "cell_type": "code",
   "execution_count": 17,
   "metadata": {},
   "outputs": [
    {
     "name": "stdout",
     "output_type": "stream",
     "text": [
      "Failed to connect or retrieve next valid ID.\n"
     ]
    }
   ],
   "source": [
    "app = TestApp()\n",
    "app.connect(\"127.0.0.1\", port=7497, clientId=45116110)\n",
    "threading.Thread(target=app.run).start()\n",
    "time.sleep(1)\n",
    "\n",
    "if app.orderId is not None:\n",
    "    # Create a contract for AAPL stock\n",
    "    mycontract = Contract()\n",
    "    mycontract.symbol = \"AAPL\"\n",
    "    mycontract.secType = \"STK\"\n",
    "    mycontract.exchange = \"SMART\"\n",
    "    mycontract.currency = \"USD\"\n",
    "    \n",
    "    # Request market data type (for real-time data)\n",
    "    app.reqMarketDataType(3)\n",
    "    \n",
    "    # Request market data for AAPL stock\n",
    "    app.reqMarketData(app.nextId(), mycontract, \"232\", False, False, [])\n",
    "else:\n",
    "    print(\"Failed to connect or retrieve next valid ID.\")"
   ]
  }
 ],
 "metadata": {
  "kernelspec": {
   "display_name": "Python 3",
   "language": "python",
   "name": "python3"
  },
  "language_info": {
   "codemirror_mode": {
    "name": "ipython",
    "version": 3
   },
   "file_extension": ".py",
   "mimetype": "text/x-python",
   "name": "python",
   "nbconvert_exporter": "python",
   "pygments_lexer": "ipython3",
   "version": "3.11.10"
  }
 },
 "nbformat": 4,
 "nbformat_minor": 2
}
